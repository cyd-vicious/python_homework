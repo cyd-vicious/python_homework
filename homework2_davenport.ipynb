{
 "cells": [
  {
   "cell_type": "code",
   "execution_count": 1,
   "id": "cdb1b81d",
   "metadata": {},
   "outputs": [
    {
     "name": "stdout",
     "output_type": "stream",
     "text": [
      "Requirement already satisfied: pathlib in c:\\users\\cydda\\appdata\\local\\programs\\python\\python39\\lib\\site-packages (1.0.1)\n",
      "Requirement already satisfied: seaborn in c:\\users\\cydda\\appdata\\local\\programs\\python\\python39\\lib\\site-packages (0.11.2)\n",
      "Requirement already satisfied: matplotlib>=2.2 in c:\\users\\cydda\\appdata\\local\\programs\\python\\python39\\lib\\site-packages (from seaborn) (3.4.3)\n",
      "Requirement already satisfied: pandas>=0.23 in c:\\users\\cydda\\appdata\\local\\programs\\python\\python39\\lib\\site-packages (from seaborn) (1.3.2)\n",
      "Requirement already satisfied: numpy>=1.15 in c:\\users\\cydda\\appdata\\local\\programs\\python\\python39\\lib\\site-packages (from seaborn) (1.21.2)\n",
      "Requirement already satisfied: scipy>=1.0 in c:\\users\\cydda\\appdata\\local\\programs\\python\\python39\\lib\\site-packages (from seaborn) (1.7.1)\n",
      "Requirement already satisfied: pyparsing>=2.2.1 in c:\\users\\cydda\\appdata\\local\\programs\\python\\python39\\lib\\site-packages (from matplotlib>=2.2->seaborn) (2.4.7)\n",
      "Requirement already satisfied: pillow>=6.2.0 in c:\\users\\cydda\\appdata\\local\\programs\\python\\python39\\lib\\site-packages (from matplotlib>=2.2->seaborn) (8.3.2)\n",
      "Requirement already satisfied: python-dateutil>=2.7 in c:\\users\\cydda\\appdata\\local\\programs\\python\\python39\\lib\\site-packages (from matplotlib>=2.2->seaborn) (2.8.2)\n",
      "Requirement already satisfied: kiwisolver>=1.0.1 in c:\\users\\cydda\\appdata\\local\\programs\\python\\python39\\lib\\site-packages (from matplotlib>=2.2->seaborn) (1.3.2)\n",
      "Requirement already satisfied: cycler>=0.10 in c:\\users\\cydda\\appdata\\local\\programs\\python\\python39\\lib\\site-packages (from matplotlib>=2.2->seaborn) (0.10.0)\n",
      "Requirement already satisfied: six in c:\\users\\cydda\\appdata\\local\\programs\\python\\python39\\lib\\site-packages (from cycler>=0.10->matplotlib>=2.2->seaborn) (1.16.0)\n",
      "Requirement already satisfied: pytz>=2017.3 in c:\\users\\cydda\\appdata\\local\\programs\\python\\python39\\lib\\site-packages (from pandas>=0.23->seaborn) (2021.1)\n"
     ]
    }
   ],
   "source": [
    "!pip install pathlib\n",
    "import sqlite3\n",
    "from pathlib import Path\n",
    "import pandas as pd\n",
    "import matplotlib.pyplot as plt\n",
    "%matplotlib inline\n",
    "!pip install seaborn\n",
    "import seaborn as sns"
   ]
  },
  {
   "cell_type": "code",
   "execution_count": 2,
   "id": "cd7f552d",
   "metadata": {},
   "outputs": [
    {
     "data": {
      "text/plain": [
       "<sqlite3.Cursor at 0x204a3e83ea0>"
      ]
     },
     "execution_count": 2,
     "metadata": {},
     "output_type": "execute_result"
    }
   ],
   "source": [
    "with open('movies.csv', 'r', encoding = 'utf-8') as f1:\n",
    "    f1 = f1.readlines()\n",
    "    \n",
    "conn = sqlite3.connect('tarantino.db')\n",
    "c = conn.cursor()\n",
    "\n",
    "c.execute(\"DROP TABLE IF EXISTS movies\")\n",
    "c.execute('''CREATE TABLE IF NOT EXISTS movies(\n",
    "          movie_name TEXT, \n",
    "          CONSTRAINT movies_PK PRIMARY KEY(movie_name))''')"
   ]
  },
  {
   "cell_type": "code",
   "execution_count": 3,
   "id": "fdf1d6b3",
   "metadata": {},
   "outputs": [],
   "source": [
    "for row in f1:\n",
    "    c.execute(\"INSERT INTO movies VALUES (?)\", (row,))\n",
    "    \n",
    "conn.commit()"
   ]
  },
  {
   "cell_type": "code",
   "execution_count": 4,
   "id": "49da54f1",
   "metadata": {},
   "outputs": [
    {
     "data": {
      "text/plain": [
       "<sqlite3.Cursor at 0x204a3e83c00>"
      ]
     },
     "execution_count": 4,
     "metadata": {},
     "output_type": "execute_result"
    }
   ],
   "source": [
    "with open('Swears.csv', 'r', encoding = 'utf-8') as f2:\n",
    "    f2 = f2.readlines()\n",
    "    \n",
    "conn = sqlite3.connect('tarantino.db')\n",
    "c = conn.cursor()\n",
    "\n",
    "c.execute(\"DROP TABLE IF EXISTS swears\")\n",
    "c.execute('''CREATE TABLE IF NOT EXISTS swears(\n",
    "          swear_id INTEGER PRIMARY KEY AUTOINCREMENT, \n",
    "          swear_timestamp NUMERIC,\n",
    "          movie_name TEXT, \n",
    "          word TEXT, \n",
    "          CONSTRAINT swears_FK FOREIGN KEY (movie_name) REFERENCES movies(movie_name))''')"
   ]
  },
  {
   "cell_type": "code",
   "execution_count": 5,
   "id": "caceeb56",
   "metadata": {},
   "outputs": [],
   "source": [
    "for row in f2:\n",
    "    row = row.split(',')\n",
    "    c.execute(\"INSERT INTO swears (movie_name, word, swear_timestamp) VALUES (?, ?, ?)\", (row[0], row[1], row[2]))\n",
    "    \n",
    "conn.commit()"
   ]
  },
  {
   "cell_type": "code",
   "execution_count": 6,
   "id": "1505adc3",
   "metadata": {},
   "outputs": [
    {
     "data": {
      "text/plain": [
       "<sqlite3.Cursor at 0x204a3ea05e0>"
      ]
     },
     "execution_count": 6,
     "metadata": {},
     "output_type": "execute_result"
    }
   ],
   "source": [
    "with open('Deaths.csv', 'r', encoding = 'utf-8') as f3:\n",
    "    f3 = f3.readlines()\n",
    "    \n",
    "conn = sqlite3.connect('tarantino.db')\n",
    "c = conn.cursor()\n",
    "\n",
    "c.execute(\"DROP TABLE IF EXISTS deaths\")\n",
    "c.execute('''CREATE TABLE IF NOT EXISTS deaths(\n",
    "          death_id INTEGER PRIMARY KEY AUTOINCREMENT, \n",
    "          death_timestamp NUMERIC,\n",
    "          movie_name TEXT, \n",
    "          CONSTRAINT deaths_FK FOREIGN KEY (movie_name) REFERENCES movies(movie_name))''')"
   ]
  },
  {
   "cell_type": "code",
   "execution_count": 7,
   "id": "a311d584",
   "metadata": {},
   "outputs": [],
   "source": [
    "for row in f3:\n",
    "    row = row.split(',')\n",
    "    c.execute(\"INSERT INTO deaths (movie_name, death_timestamp) VALUES (?, ?)\", (row[0], row[1]))\n",
    "    \n",
    "conn.commit()"
   ]
  },
  {
   "cell_type": "code",
   "execution_count": 8,
   "id": "afa50e67",
   "metadata": {},
   "outputs": [],
   "source": [
    "Path('tarantino.db').touch()"
   ]
  },
  {
   "cell_type": "code",
   "execution_count": 9,
   "id": "434540d3",
   "metadata": {},
   "outputs": [],
   "source": [
    "conn = sqlite3.connect('tarantino.db')\n",
    "c = conn.cursor()"
   ]
  },
  {
   "cell_type": "code",
   "execution_count": 10,
   "id": "123163c9",
   "metadata": {},
   "outputs": [
    {
     "data": {
      "text/plain": [
       "[('Reservoir Dogs\\n',),\n",
       " ('Pulp Fiction\\n',),\n",
       " ('Kill Bill: Vol. 1\\n',),\n",
       " ('Kill Bill: Vol. 2\\n',),\n",
       " ('Inglorious Basterds\\n',),\n",
       " ('Django Unchained\\n',),\n",
       " ('Jackie Brown',)]"
      ]
     },
     "execution_count": 10,
     "metadata": {},
     "output_type": "execute_result"
    }
   ],
   "source": [
    "c.execute('''SELECT * FROM movies''').fetchall()"
   ]
  },
  {
   "cell_type": "code",
   "execution_count": 11,
   "id": "07c34ee5",
   "metadata": {},
   "outputs": [],
   "source": [
    "movies_df = pd.read_sql('''SELECT * FROM movies''', conn)"
   ]
  },
  {
   "cell_type": "code",
   "execution_count": 12,
   "id": "5e9c04e6",
   "metadata": {},
   "outputs": [],
   "source": [
    "swears_df = pd.read_sql('''SELECT * FROM Swears''', conn)"
   ]
  },
  {
   "cell_type": "code",
   "execution_count": 13,
   "id": "32115bfb",
   "metadata": {},
   "outputs": [],
   "source": [
    "deaths_df = pd.read_sql('''SELECT * FROM Deaths''', conn)"
   ]
  },
  {
   "cell_type": "code",
   "execution_count": null,
   "id": "3fc41ca2",
   "metadata": {},
   "outputs": [],
   "source": [
    "# 3 different tables for the database to keep separate the information about\n",
    "# the movie, instances of swear words in each movie, and instances of death\n",
    "# in each movie. By creating it this way, we can sample the necessary data \n",
    "# needed, or we can merge them together. Either way, we have our primary key\n",
    "# \"movie_name\" in the first table and our foreign key in the other two tables,\n",
    "# so that swears and deaths can be reference back to the first table accordingly."
   ]
  },
  {
   "cell_type": "code",
   "execution_count": 15,
   "id": "e4ae844d",
   "metadata": {},
   "outputs": [],
   "source": [
    "movies_df.insert(1, 'Year', [1992, 1994, 2003, 2004, 2009, 2012, 1997], True)"
   ]
  },
  {
   "cell_type": "code",
   "execution_count": 16,
   "id": "d580069d",
   "metadata": {},
   "outputs": [
    {
     "data": {
      "text/html": [
       "<div>\n",
       "<style scoped>\n",
       "    .dataframe tbody tr th:only-of-type {\n",
       "        vertical-align: middle;\n",
       "    }\n",
       "\n",
       "    .dataframe tbody tr th {\n",
       "        vertical-align: top;\n",
       "    }\n",
       "\n",
       "    .dataframe thead th {\n",
       "        text-align: right;\n",
       "    }\n",
       "</style>\n",
       "<table border=\"1\" class=\"dataframe\">\n",
       "  <thead>\n",
       "    <tr style=\"text-align: right;\">\n",
       "      <th></th>\n",
       "      <th>movie_name</th>\n",
       "      <th>Year</th>\n",
       "    </tr>\n",
       "  </thead>\n",
       "  <tbody>\n",
       "    <tr>\n",
       "      <th>0</th>\n",
       "      <td>Reservoir Dogs\\n</td>\n",
       "      <td>1992</td>\n",
       "    </tr>\n",
       "    <tr>\n",
       "      <th>1</th>\n",
       "      <td>Pulp Fiction\\n</td>\n",
       "      <td>1994</td>\n",
       "    </tr>\n",
       "    <tr>\n",
       "      <th>2</th>\n",
       "      <td>Kill Bill: Vol. 1\\n</td>\n",
       "      <td>2003</td>\n",
       "    </tr>\n",
       "    <tr>\n",
       "      <th>3</th>\n",
       "      <td>Kill Bill: Vol. 2\\n</td>\n",
       "      <td>2004</td>\n",
       "    </tr>\n",
       "    <tr>\n",
       "      <th>4</th>\n",
       "      <td>Inglorious Basterds\\n</td>\n",
       "      <td>2009</td>\n",
       "    </tr>\n",
       "    <tr>\n",
       "      <th>5</th>\n",
       "      <td>Django Unchained\\n</td>\n",
       "      <td>2012</td>\n",
       "    </tr>\n",
       "    <tr>\n",
       "      <th>6</th>\n",
       "      <td>Jackie Brown</td>\n",
       "      <td>1997</td>\n",
       "    </tr>\n",
       "  </tbody>\n",
       "</table>\n",
       "</div>"
      ],
      "text/plain": [
       "              movie_name  Year\n",
       "0       Reservoir Dogs\\n  1992\n",
       "1         Pulp Fiction\\n  1994\n",
       "2    Kill Bill: Vol. 1\\n  2003\n",
       "3    Kill Bill: Vol. 2\\n  2004\n",
       "4  Inglorious Basterds\\n  2009\n",
       "5     Django Unchained\\n  2012\n",
       "6           Jackie Brown  1997"
      ]
     },
     "execution_count": 16,
     "metadata": {},
     "output_type": "execute_result"
    }
   ],
   "source": [
    "movies_df"
   ]
  },
  {
   "cell_type": "code",
   "execution_count": 17,
   "id": "0c4408db",
   "metadata": {},
   "outputs": [],
   "source": [
    "movies_df = movies_df.sort_values(by='Year')"
   ]
  },
  {
   "cell_type": "code",
   "execution_count": 18,
   "id": "2c295629",
   "metadata": {},
   "outputs": [],
   "source": [
    "movies_df.insert(2, 'Runtime', [\"99\", \"165\", \"154\", \"111\", \"137\", \"153\", \"165\"], True)"
   ]
  },
  {
   "cell_type": "code",
   "execution_count": 19,
   "id": "d0896ac5",
   "metadata": {},
   "outputs": [
    {
     "data": {
      "text/html": [
       "<div>\n",
       "<style scoped>\n",
       "    .dataframe tbody tr th:only-of-type {\n",
       "        vertical-align: middle;\n",
       "    }\n",
       "\n",
       "    .dataframe tbody tr th {\n",
       "        vertical-align: top;\n",
       "    }\n",
       "\n",
       "    .dataframe thead th {\n",
       "        text-align: right;\n",
       "    }\n",
       "</style>\n",
       "<table border=\"1\" class=\"dataframe\">\n",
       "  <thead>\n",
       "    <tr style=\"text-align: right;\">\n",
       "      <th></th>\n",
       "      <th>movie_name</th>\n",
       "      <th>Year</th>\n",
       "      <th>Runtime</th>\n",
       "    </tr>\n",
       "  </thead>\n",
       "  <tbody>\n",
       "    <tr>\n",
       "      <th>0</th>\n",
       "      <td>Reservoir Dogs\\n</td>\n",
       "      <td>1992</td>\n",
       "      <td>99</td>\n",
       "    </tr>\n",
       "    <tr>\n",
       "      <th>1</th>\n",
       "      <td>Pulp Fiction\\n</td>\n",
       "      <td>1994</td>\n",
       "      <td>165</td>\n",
       "    </tr>\n",
       "    <tr>\n",
       "      <th>6</th>\n",
       "      <td>Jackie Brown</td>\n",
       "      <td>1997</td>\n",
       "      <td>154</td>\n",
       "    </tr>\n",
       "    <tr>\n",
       "      <th>2</th>\n",
       "      <td>Kill Bill: Vol. 1\\n</td>\n",
       "      <td>2003</td>\n",
       "      <td>111</td>\n",
       "    </tr>\n",
       "    <tr>\n",
       "      <th>3</th>\n",
       "      <td>Kill Bill: Vol. 2\\n</td>\n",
       "      <td>2004</td>\n",
       "      <td>137</td>\n",
       "    </tr>\n",
       "    <tr>\n",
       "      <th>4</th>\n",
       "      <td>Inglorious Basterds\\n</td>\n",
       "      <td>2009</td>\n",
       "      <td>153</td>\n",
       "    </tr>\n",
       "    <tr>\n",
       "      <th>5</th>\n",
       "      <td>Django Unchained\\n</td>\n",
       "      <td>2012</td>\n",
       "      <td>165</td>\n",
       "    </tr>\n",
       "  </tbody>\n",
       "</table>\n",
       "</div>"
      ],
      "text/plain": [
       "              movie_name  Year Runtime\n",
       "0       Reservoir Dogs\\n  1992      99\n",
       "1         Pulp Fiction\\n  1994     165\n",
       "6           Jackie Brown  1997     154\n",
       "2    Kill Bill: Vol. 1\\n  2003     111\n",
       "3    Kill Bill: Vol. 2\\n  2004     137\n",
       "4  Inglorious Basterds\\n  2009     153\n",
       "5     Django Unchained\\n  2012     165"
      ]
     },
     "execution_count": 19,
     "metadata": {},
     "output_type": "execute_result"
    }
   ],
   "source": [
    "movies_df"
   ]
  },
  {
   "cell_type": "code",
   "execution_count": 20,
   "id": "46f153a3",
   "metadata": {},
   "outputs": [
    {
     "data": {
      "text/html": [
       "<div>\n",
       "<style scoped>\n",
       "    .dataframe tbody tr th:only-of-type {\n",
       "        vertical-align: middle;\n",
       "    }\n",
       "\n",
       "    .dataframe tbody tr th {\n",
       "        vertical-align: top;\n",
       "    }\n",
       "\n",
       "    .dataframe thead th {\n",
       "        text-align: right;\n",
       "    }\n",
       "</style>\n",
       "<table border=\"1\" class=\"dataframe\">\n",
       "  <thead>\n",
       "    <tr style=\"text-align: right;\">\n",
       "      <th></th>\n",
       "      <th>swear_id</th>\n",
       "      <th>swear_timestamp</th>\n",
       "      <th>movie_name</th>\n",
       "      <th>word</th>\n",
       "    </tr>\n",
       "  </thead>\n",
       "  <tbody>\n",
       "    <tr>\n",
       "      <th>0</th>\n",
       "      <td>1</td>\n",
       "      <td>0.40</td>\n",
       "      <td>Reservoir Dogs</td>\n",
       "      <td>dick</td>\n",
       "    </tr>\n",
       "    <tr>\n",
       "      <th>1</th>\n",
       "      <td>2</td>\n",
       "      <td>0.43</td>\n",
       "      <td>Reservoir Dogs</td>\n",
       "      <td>dicks</td>\n",
       "    </tr>\n",
       "    <tr>\n",
       "      <th>2</th>\n",
       "      <td>3</td>\n",
       "      <td>0.55</td>\n",
       "      <td>Reservoir Dogs</td>\n",
       "      <td>fucked</td>\n",
       "    </tr>\n",
       "    <tr>\n",
       "      <th>3</th>\n",
       "      <td>4</td>\n",
       "      <td>0.61</td>\n",
       "      <td>Reservoir Dogs</td>\n",
       "      <td>fucking</td>\n",
       "    </tr>\n",
       "    <tr>\n",
       "      <th>4</th>\n",
       "      <td>5</td>\n",
       "      <td>0.61</td>\n",
       "      <td>Reservoir Dogs</td>\n",
       "      <td>bullshit</td>\n",
       "    </tr>\n",
       "    <tr>\n",
       "      <th>...</th>\n",
       "      <td>...</td>\n",
       "      <td>...</td>\n",
       "      <td>...</td>\n",
       "      <td>...</td>\n",
       "    </tr>\n",
       "    <tr>\n",
       "      <th>1699</th>\n",
       "      <td>1700</td>\n",
       "      <td>141.80</td>\n",
       "      <td>Jackie Brown</td>\n",
       "      <td>motherfucker</td>\n",
       "    </tr>\n",
       "    <tr>\n",
       "      <th>1700</th>\n",
       "      <td>1701</td>\n",
       "      <td>141.93</td>\n",
       "      <td>Jackie Brown</td>\n",
       "      <td>motherfucker</td>\n",
       "    </tr>\n",
       "    <tr>\n",
       "      <th>1701</th>\n",
       "      <td>1702</td>\n",
       "      <td>142.43</td>\n",
       "      <td>Jackie Brown</td>\n",
       "      <td>ass</td>\n",
       "    </tr>\n",
       "    <tr>\n",
       "      <th>1702</th>\n",
       "      <td>1703</td>\n",
       "      <td>142.47</td>\n",
       "      <td>Jackie Brown</td>\n",
       "      <td>fucking</td>\n",
       "    </tr>\n",
       "    <tr>\n",
       "      <th>1703</th>\n",
       "      <td>1704</td>\n",
       "      <td>142.97</td>\n",
       "      <td>Jackie Brown</td>\n",
       "      <td>goddamn</td>\n",
       "    </tr>\n",
       "  </tbody>\n",
       "</table>\n",
       "<p>1704 rows × 4 columns</p>\n",
       "</div>"
      ],
      "text/plain": [
       "      swear_id  swear_timestamp      movie_name          word\n",
       "0            1             0.40  Reservoir Dogs          dick\n",
       "1            2             0.43  Reservoir Dogs         dicks\n",
       "2            3             0.55  Reservoir Dogs        fucked\n",
       "3            4             0.61  Reservoir Dogs       fucking\n",
       "4            5             0.61  Reservoir Dogs      bullshit\n",
       "...        ...              ...             ...           ...\n",
       "1699      1700           141.80    Jackie Brown  motherfucker\n",
       "1700      1701           141.93    Jackie Brown  motherfucker\n",
       "1701      1702           142.43    Jackie Brown           ass\n",
       "1702      1703           142.47    Jackie Brown       fucking\n",
       "1703      1704           142.97    Jackie Brown       goddamn\n",
       "\n",
       "[1704 rows x 4 columns]"
      ]
     },
     "execution_count": 20,
     "metadata": {},
     "output_type": "execute_result"
    }
   ],
   "source": [
    "swears_df"
   ]
  },
  {
   "cell_type": "code",
   "execution_count": 21,
   "id": "28b695d9",
   "metadata": {},
   "outputs": [
    {
     "data": {
      "text/html": [
       "<div>\n",
       "<style scoped>\n",
       "    .dataframe tbody tr th:only-of-type {\n",
       "        vertical-align: middle;\n",
       "    }\n",
       "\n",
       "    .dataframe tbody tr th {\n",
       "        vertical-align: top;\n",
       "    }\n",
       "\n",
       "    .dataframe thead th {\n",
       "        text-align: right;\n",
       "    }\n",
       "</style>\n",
       "<table border=\"1\" class=\"dataframe\">\n",
       "  <thead>\n",
       "    <tr style=\"text-align: right;\">\n",
       "      <th></th>\n",
       "      <th>death_id</th>\n",
       "      <th>death_timestamp</th>\n",
       "      <th>movie_name</th>\n",
       "    </tr>\n",
       "  </thead>\n",
       "  <tbody>\n",
       "    <tr>\n",
       "      <th>0</th>\n",
       "      <td>1</td>\n",
       "      <td>59.93</td>\n",
       "      <td>Reservoir Dogs</td>\n",
       "    </tr>\n",
       "    <tr>\n",
       "      <th>1</th>\n",
       "      <td>2</td>\n",
       "      <td>85.58</td>\n",
       "      <td>Reservoir Dogs</td>\n",
       "    </tr>\n",
       "    <tr>\n",
       "      <th>2</th>\n",
       "      <td>3</td>\n",
       "      <td>85.58</td>\n",
       "      <td>Reservoir Dogs</td>\n",
       "    </tr>\n",
       "    <tr>\n",
       "      <th>3</th>\n",
       "      <td>4</td>\n",
       "      <td>85.81</td>\n",
       "      <td>Reservoir Dogs</td>\n",
       "    </tr>\n",
       "    <tr>\n",
       "      <th>4</th>\n",
       "      <td>5</td>\n",
       "      <td>86.55</td>\n",
       "      <td>Reservoir Dogs</td>\n",
       "    </tr>\n",
       "    <tr>\n",
       "      <th>...</th>\n",
       "      <td>...</td>\n",
       "      <td>...</td>\n",
       "      <td>...</td>\n",
       "    </tr>\n",
       "    <tr>\n",
       "      <th>185</th>\n",
       "      <td>186</td>\n",
       "      <td>160.45</td>\n",
       "      <td>Django Unchained</td>\n",
       "    </tr>\n",
       "    <tr>\n",
       "      <th>186</th>\n",
       "      <td>187</td>\n",
       "      <td>23.08</td>\n",
       "      <td>Jackie Brown</td>\n",
       "    </tr>\n",
       "    <tr>\n",
       "      <th>187</th>\n",
       "      <td>188</td>\n",
       "      <td>113.28</td>\n",
       "      <td>Jackie Brown</td>\n",
       "    </tr>\n",
       "    <tr>\n",
       "      <th>188</th>\n",
       "      <td>189</td>\n",
       "      <td>125.43</td>\n",
       "      <td>Jackie Brown</td>\n",
       "    </tr>\n",
       "    <tr>\n",
       "      <th>189</th>\n",
       "      <td>190</td>\n",
       "      <td>143.13</td>\n",
       "      <td>Jackie Brown</td>\n",
       "    </tr>\n",
       "  </tbody>\n",
       "</table>\n",
       "<p>190 rows × 3 columns</p>\n",
       "</div>"
      ],
      "text/plain": [
       "     death_id  death_timestamp        movie_name\n",
       "0           1            59.93    Reservoir Dogs\n",
       "1           2            85.58    Reservoir Dogs\n",
       "2           3            85.58    Reservoir Dogs\n",
       "3           4            85.81    Reservoir Dogs\n",
       "4           5            86.55    Reservoir Dogs\n",
       "..        ...              ...               ...\n",
       "185       186           160.45  Django Unchained\n",
       "186       187            23.08      Jackie Brown\n",
       "187       188           113.28      Jackie Brown\n",
       "188       189           125.43      Jackie Brown\n",
       "189       190           143.13      Jackie Brown\n",
       "\n",
       "[190 rows x 3 columns]"
      ]
     },
     "execution_count": 21,
     "metadata": {},
     "output_type": "execute_result"
    }
   ],
   "source": [
    "deaths_df"
   ]
  },
  {
   "cell_type": "code",
   "execution_count": 22,
   "id": "4ac8115b",
   "metadata": {
    "scrolled": true
   },
   "outputs": [
    {
     "data": {
      "text/plain": [
       "1704"
      ]
     },
     "execution_count": 22,
     "metadata": {},
     "output_type": "execute_result"
    }
   ],
   "source": [
    "swears_df[\"swear_timestamp\"].count()"
   ]
  },
  {
   "cell_type": "code",
   "execution_count": 24,
   "id": "a82f1365",
   "metadata": {},
   "outputs": [
    {
     "data": {
      "text/html": [
       "<div>\n",
       "<style scoped>\n",
       "    .dataframe tbody tr th:only-of-type {\n",
       "        vertical-align: middle;\n",
       "    }\n",
       "\n",
       "    .dataframe tbody tr th {\n",
       "        vertical-align: top;\n",
       "    }\n",
       "\n",
       "    .dataframe thead th {\n",
       "        text-align: right;\n",
       "    }\n",
       "</style>\n",
       "<table border=\"1\" class=\"dataframe\">\n",
       "  <thead>\n",
       "    <tr style=\"text-align: right;\">\n",
       "      <th></th>\n",
       "      <th>swear_id</th>\n",
       "      <th>swear_timestamp</th>\n",
       "      <th>movie_name</th>\n",
       "      <th>word</th>\n",
       "    </tr>\n",
       "  </thead>\n",
       "  <tbody>\n",
       "    <tr>\n",
       "      <th>5</th>\n",
       "      <td>6</td>\n",
       "      <td>0.66</td>\n",
       "      <td>Reservoir Dogs</td>\n",
       "      <td>fuck</td>\n",
       "    </tr>\n",
       "    <tr>\n",
       "      <th>7</th>\n",
       "      <td>8</td>\n",
       "      <td>1.43</td>\n",
       "      <td>Reservoir Dogs</td>\n",
       "      <td>fuck</td>\n",
       "    </tr>\n",
       "    <tr>\n",
       "      <th>9</th>\n",
       "      <td>10</td>\n",
       "      <td>1.66</td>\n",
       "      <td>Reservoir Dogs</td>\n",
       "      <td>fuck</td>\n",
       "    </tr>\n",
       "    <tr>\n",
       "      <th>22</th>\n",
       "      <td>23</td>\n",
       "      <td>2.30</td>\n",
       "      <td>Reservoir Dogs</td>\n",
       "      <td>fuck</td>\n",
       "    </tr>\n",
       "    <tr>\n",
       "      <th>29</th>\n",
       "      <td>30</td>\n",
       "      <td>3.05</td>\n",
       "      <td>Reservoir Dogs</td>\n",
       "      <td>fuck</td>\n",
       "    </tr>\n",
       "    <tr>\n",
       "      <th>...</th>\n",
       "      <td>...</td>\n",
       "      <td>...</td>\n",
       "      <td>...</td>\n",
       "      <td>...</td>\n",
       "    </tr>\n",
       "    <tr>\n",
       "      <th>1631</th>\n",
       "      <td>1632</td>\n",
       "      <td>122.15</td>\n",
       "      <td>Jackie Brown</td>\n",
       "      <td>fuck</td>\n",
       "    </tr>\n",
       "    <tr>\n",
       "      <th>1632</th>\n",
       "      <td>1633</td>\n",
       "      <td>122.17</td>\n",
       "      <td>Jackie Brown</td>\n",
       "      <td>fuck</td>\n",
       "    </tr>\n",
       "    <tr>\n",
       "      <th>1650</th>\n",
       "      <td>1651</td>\n",
       "      <td>125.33</td>\n",
       "      <td>Jackie Brown</td>\n",
       "      <td>fuck</td>\n",
       "    </tr>\n",
       "    <tr>\n",
       "      <th>1659</th>\n",
       "      <td>1660</td>\n",
       "      <td>129.17</td>\n",
       "      <td>Jackie Brown</td>\n",
       "      <td>fuck</td>\n",
       "    </tr>\n",
       "    <tr>\n",
       "      <th>1678</th>\n",
       "      <td>1679</td>\n",
       "      <td>134.00</td>\n",
       "      <td>Jackie Brown</td>\n",
       "      <td>fuck</td>\n",
       "    </tr>\n",
       "  </tbody>\n",
       "</table>\n",
       "<p>213 rows × 4 columns</p>\n",
       "</div>"
      ],
      "text/plain": [
       "      swear_id  swear_timestamp      movie_name  word\n",
       "5            6             0.66  Reservoir Dogs  fuck\n",
       "7            8             1.43  Reservoir Dogs  fuck\n",
       "9           10             1.66  Reservoir Dogs  fuck\n",
       "22          23             2.30  Reservoir Dogs  fuck\n",
       "29          30             3.05  Reservoir Dogs  fuck\n",
       "...        ...              ...             ...   ...\n",
       "1631      1632           122.15    Jackie Brown  fuck\n",
       "1632      1633           122.17    Jackie Brown  fuck\n",
       "1650      1651           125.33    Jackie Brown  fuck\n",
       "1659      1660           129.17    Jackie Brown  fuck\n",
       "1678      1679           134.00    Jackie Brown  fuck\n",
       "\n",
       "[213 rows x 4 columns]"
      ]
     },
     "execution_count": 24,
     "metadata": {},
     "output_type": "execute_result"
    }
   ],
   "source": [
    "swears_df[swears_df[\"word\"] == \"fuck\"]"
   ]
  },
  {
   "cell_type": "code",
   "execution_count": 25,
   "id": "9313fb90",
   "metadata": {},
   "outputs": [],
   "source": [
    "#Adjectival expletives"
   ]
  },
  {
   "cell_type": "code",
   "execution_count": 26,
   "id": "5f02dc10",
   "metadata": {},
   "outputs": [],
   "source": [
    "#Reservoir Dogs"
   ]
  },
  {
   "cell_type": "code",
   "execution_count": 27,
   "id": "0ce2ad87",
   "metadata": {},
   "outputs": [
    {
     "data": {
      "text/plain": [
       "movie_name         78\n",
       "swear_timestamp    78\n",
       "word               78\n",
       "dtype: int64"
      ]
     },
     "execution_count": 27,
     "metadata": {},
     "output_type": "execute_result"
    }
   ],
   "source": [
    "swears_df.loc[(swears_df['movie_name'].str.startswith('R')) & (swears_df['swear_timestamp'] < 44.5) & (swears_df['word'].str.endswith(\"ing\")),['movie_name','swear_timestamp', 'word']].count()"
   ]
  },
  {
   "cell_type": "code",
   "execution_count": 28,
   "id": "9705f5d9",
   "metadata": {},
   "outputs": [
    {
     "data": {
      "text/plain": [
       "movie_name         102\n",
       "swear_timestamp    102\n",
       "word               102\n",
       "dtype: int64"
      ]
     },
     "execution_count": 28,
     "metadata": {},
     "output_type": "execute_result"
    }
   ],
   "source": [
    "swears_df.loc[(swears_df['movie_name'].str.startswith('R')) & (swears_df['swear_timestamp'] > 44.5) & (swears_df['word'].str.endswith(\"ing\")),['movie_name','swear_timestamp', 'word']].count()"
   ]
  },
  {
   "cell_type": "code",
   "execution_count": 29,
   "id": "76366c2f",
   "metadata": {},
   "outputs": [],
   "source": [
    "#Pulp Fiction"
   ]
  },
  {
   "cell_type": "code",
   "execution_count": 30,
   "id": "a13c1b8e",
   "metadata": {},
   "outputs": [
    {
     "data": {
      "text/plain": [
       "movie_name         67\n",
       "swear_timestamp    67\n",
       "word               67\n",
       "dtype: int64"
      ]
     },
     "execution_count": 30,
     "metadata": {},
     "output_type": "execute_result"
    }
   ],
   "source": [
    "swears_df.loc[(swears_df['movie_name'].str.startswith('P')) & (swears_df['swear_timestamp'] < 82.5) & (swears_df['word'].str.endswith(\"ing\")),['movie_name','swear_timestamp', 'word']].count()"
   ]
  },
  {
   "cell_type": "code",
   "execution_count": 31,
   "id": "368e0047",
   "metadata": {},
   "outputs": [
    {
     "data": {
      "text/plain": [
       "movie_name         75\n",
       "swear_timestamp    75\n",
       "word               75\n",
       "dtype: int64"
      ]
     },
     "execution_count": 31,
     "metadata": {},
     "output_type": "execute_result"
    }
   ],
   "source": [
    "swears_df.loc[(swears_df['movie_name'].str.startswith('P')) & (swears_df['swear_timestamp'] > 82.5) & (swears_df['word'].str.endswith(\"ing\")),['movie_name','swear_timestamp', 'word']].count()"
   ]
  },
  {
   "cell_type": "code",
   "execution_count": 32,
   "id": "ff0fccf6",
   "metadata": {},
   "outputs": [],
   "source": [
    "#Jackie Brown"
   ]
  },
  {
   "cell_type": "code",
   "execution_count": 33,
   "id": "697a9a29",
   "metadata": {},
   "outputs": [
    {
     "data": {
      "text/plain": [
       "movie_name         25\n",
       "swear_timestamp    25\n",
       "word               25\n",
       "dtype: int64"
      ]
     },
     "execution_count": 33,
     "metadata": {},
     "output_type": "execute_result"
    }
   ],
   "source": [
    "swears_df.loc[(swears_df['movie_name'].str.startswith('J')) & (swears_df['swear_timestamp'] < 77) & (swears_df['word'].str.endswith(\"ing\")),['movie_name','swear_timestamp', 'word']].count()"
   ]
  },
  {
   "cell_type": "code",
   "execution_count": 34,
   "id": "f7ee7e2f",
   "metadata": {},
   "outputs": [
    {
     "data": {
      "text/plain": [
       "movie_name         37\n",
       "swear_timestamp    37\n",
       "word               37\n",
       "dtype: int64"
      ]
     },
     "execution_count": 34,
     "metadata": {},
     "output_type": "execute_result"
    }
   ],
   "source": [
    "swears_df.loc[(swears_df['movie_name'].str.startswith('J')) & (swears_df['swear_timestamp'] > 77) & (swears_df['word'].str.endswith(\"ing\")),['movie_name','swear_timestamp', 'word']].count()"
   ]
  },
  {
   "cell_type": "code",
   "execution_count": 35,
   "id": "c50f4e56",
   "metadata": {},
   "outputs": [],
   "source": [
    "#Kill Bill Vol. 1"
   ]
  },
  {
   "cell_type": "code",
   "execution_count": 36,
   "id": "c5e2f182",
   "metadata": {},
   "outputs": [
    {
     "data": {
      "text/plain": [
       "movie_name         4\n",
       "swear_timestamp    4\n",
       "word               4\n",
       "dtype: int64"
      ]
     },
     "execution_count": 36,
     "metadata": {},
     "output_type": "execute_result"
    }
   ],
   "source": [
    "swears_df.loc[(swears_df['movie_name'].str.endswith('1')) & (swears_df['swear_timestamp'] < 55.5) & (swears_df['word'].str.endswith(\"ing\")),['movie_name','swear_timestamp', 'word']].count()"
   ]
  },
  {
   "cell_type": "code",
   "execution_count": 37,
   "id": "31d0b3c9",
   "metadata": {},
   "outputs": [
    {
     "data": {
      "text/plain": [
       "movie_name         3\n",
       "swear_timestamp    3\n",
       "word               3\n",
       "dtype: int64"
      ]
     },
     "execution_count": 37,
     "metadata": {},
     "output_type": "execute_result"
    }
   ],
   "source": [
    "swears_df.loc[(swears_df['movie_name'].str.endswith('1')) & (swears_df['swear_timestamp'] > 55.5) & (swears_df['word'].str.endswith(\"ing\")),['movie_name','swear_timestamp', 'word']].count()"
   ]
  },
  {
   "cell_type": "code",
   "execution_count": 38,
   "id": "fbca7def",
   "metadata": {},
   "outputs": [],
   "source": [
    "#Kill Bill Vol. 2"
   ]
  },
  {
   "cell_type": "code",
   "execution_count": 39,
   "id": "4fdb84d4",
   "metadata": {},
   "outputs": [
    {
     "data": {
      "text/plain": [
       "movie_name         9\n",
       "swear_timestamp    9\n",
       "word               9\n",
       "dtype: int64"
      ]
     },
     "execution_count": 39,
     "metadata": {},
     "output_type": "execute_result"
    }
   ],
   "source": [
    "swears_df.loc[(swears_df['movie_name'].str.endswith('2')) & (swears_df['swear_timestamp'] < 68.5) & (swears_df['word'].str.endswith(\"ing\")),['movie_name','swear_timestamp', 'word']].count()"
   ]
  },
  {
   "cell_type": "code",
   "execution_count": 40,
   "id": "80ee0933",
   "metadata": {},
   "outputs": [
    {
     "data": {
      "text/plain": [
       "movie_name         10\n",
       "swear_timestamp    10\n",
       "word               10\n",
       "dtype: int64"
      ]
     },
     "execution_count": 40,
     "metadata": {},
     "output_type": "execute_result"
    }
   ],
   "source": [
    "swears_df.loc[(swears_df['movie_name'].str.endswith('2')) & (swears_df['swear_timestamp'] > 68.5) & (swears_df['word'].str.endswith(\"ing\")),['movie_name','swear_timestamp', 'word']].count()"
   ]
  },
  {
   "cell_type": "code",
   "execution_count": 44,
   "id": "c276e2fc",
   "metadata": {},
   "outputs": [],
   "source": [
    "#Inglorious Basterds"
   ]
  },
  {
   "cell_type": "code",
   "execution_count": 45,
   "id": "65625360",
   "metadata": {},
   "outputs": [
    {
     "data": {
      "text/plain": [
       "movie_name         7\n",
       "swear_timestamp    7\n",
       "word               7\n",
       "dtype: int64"
      ]
     },
     "execution_count": 45,
     "metadata": {},
     "output_type": "execute_result"
    }
   ],
   "source": [
    "swears_df.loc[(swears_df['movie_name'].str.startswith('I')) & (swears_df['swear_timestamp'] < 82.5) & (swears_df['word'].str.endswith(\"ing\")),['movie_name','swear_timestamp', 'word']].count()"
   ]
  },
  {
   "cell_type": "code",
   "execution_count": 46,
   "id": "cbefab87",
   "metadata": {},
   "outputs": [
    {
     "data": {
      "text/plain": [
       "movie_name         3\n",
       "swear_timestamp    3\n",
       "word               3\n",
       "dtype: int64"
      ]
     },
     "execution_count": 46,
     "metadata": {},
     "output_type": "execute_result"
    }
   ],
   "source": [
    "swears_df.loc[(swears_df['movie_name'].str.startswith('I')) & (swears_df['swear_timestamp'] > 82.5) & (swears_df['word'].str.endswith(\"ing\")),['movie_name','swear_timestamp', 'word']].count()"
   ]
  },
  {
   "cell_type": "code",
   "execution_count": 41,
   "id": "74ccd0ee",
   "metadata": {},
   "outputs": [],
   "source": [
    "#Django Unchained"
   ]
  },
  {
   "cell_type": "code",
   "execution_count": 42,
   "id": "b7643c37",
   "metadata": {},
   "outputs": [
    {
     "data": {
      "text/plain": [
       "movie_name         8\n",
       "swear_timestamp    8\n",
       "word               8\n",
       "dtype: int64"
      ]
     },
     "execution_count": 42,
     "metadata": {},
     "output_type": "execute_result"
    }
   ],
   "source": [
    "swears_df.loc[(swears_df['movie_name'].str.startswith('D')) & (swears_df['swear_timestamp'] < 76.5) & (swears_df['word'].str.endswith(\"ing\")),['movie_name','swear_timestamp', 'word']].count()"
   ]
  },
  {
   "cell_type": "code",
   "execution_count": 43,
   "id": "ea77404c",
   "metadata": {},
   "outputs": [
    {
     "data": {
      "text/plain": [
       "movie_name         7\n",
       "swear_timestamp    7\n",
       "word               7\n",
       "dtype: int64"
      ]
     },
     "execution_count": 43,
     "metadata": {},
     "output_type": "execute_result"
    }
   ],
   "source": [
    "swears_df.loc[(swears_df['movie_name'].str.startswith('D')) & (swears_df['swear_timestamp'] > 76.5) & (swears_df['word'].str.endswith(\"ing\")),['movie_name','swear_timestamp', 'word']].count()"
   ]
  },
  {
   "cell_type": "code",
   "execution_count": null,
   "id": "37f59be1",
   "metadata": {},
   "outputs": [],
   "source": [
    "#Adjectival Swears (\"fucking\") in 1st and 2nd halves of Tarantino movies"
   ]
  },
  {
   "cell_type": "code",
   "execution_count": 78,
   "id": "17b5c33f",
   "metadata": {},
   "outputs": [
    {
     "data": {
      "text/html": [
       "<div>\n",
       "<style scoped>\n",
       "    .dataframe tbody tr th:only-of-type {\n",
       "        vertical-align: middle;\n",
       "    }\n",
       "\n",
       "    .dataframe tbody tr th {\n",
       "        vertical-align: top;\n",
       "    }\n",
       "\n",
       "    .dataframe thead th {\n",
       "        text-align: right;\n",
       "    }\n",
       "</style>\n",
       "<table border=\"1\" class=\"dataframe\">\n",
       "  <thead>\n",
       "    <tr style=\"text-align: right;\">\n",
       "      <th></th>\n",
       "      <th>movie</th>\n",
       "      <th>1st half</th>\n",
       "      <th>2nd half</th>\n",
       "    </tr>\n",
       "  </thead>\n",
       "  <tbody>\n",
       "    <tr>\n",
       "      <th>0</th>\n",
       "      <td>Reservoir Dogs</td>\n",
       "      <td>78</td>\n",
       "      <td>102</td>\n",
       "    </tr>\n",
       "    <tr>\n",
       "      <th>1</th>\n",
       "      <td>Pulp Fiction</td>\n",
       "      <td>67</td>\n",
       "      <td>75</td>\n",
       "    </tr>\n",
       "    <tr>\n",
       "      <th>2</th>\n",
       "      <td>Jackie Brown</td>\n",
       "      <td>25</td>\n",
       "      <td>37</td>\n",
       "    </tr>\n",
       "    <tr>\n",
       "      <th>3</th>\n",
       "      <td>Kill Bill Vol. 1</td>\n",
       "      <td>4</td>\n",
       "      <td>3</td>\n",
       "    </tr>\n",
       "    <tr>\n",
       "      <th>4</th>\n",
       "      <td>Kill Bill Vol.2</td>\n",
       "      <td>9</td>\n",
       "      <td>10</td>\n",
       "    </tr>\n",
       "    <tr>\n",
       "      <th>5</th>\n",
       "      <td>Django Unchained</td>\n",
       "      <td>8</td>\n",
       "      <td>7</td>\n",
       "    </tr>\n",
       "    <tr>\n",
       "      <th>6</th>\n",
       "      <td>Inglorious Basterds</td>\n",
       "      <td>7</td>\n",
       "      <td>3</td>\n",
       "    </tr>\n",
       "  </tbody>\n",
       "</table>\n",
       "</div>"
      ],
      "text/plain": [
       "                 movie  1st half  2nd half\n",
       "0       Reservoir Dogs        78       102\n",
       "1         Pulp Fiction        67        75\n",
       "2         Jackie Brown        25        37\n",
       "3     Kill Bill Vol. 1         4         3\n",
       "4      Kill Bill Vol.2         9        10\n",
       "5     Django Unchained         8         7\n",
       "6  Inglorious Basterds         7         3"
      ]
     },
     "execution_count": 78,
     "metadata": {},
     "output_type": "execute_result"
    }
   ],
   "source": [
    "adjs = {\"movie\": [\"Reservoir Dogs\", \"Pulp Fiction\", \"Jackie Brown\", \"Kill Bill Vol. 1\", \"Kill Bill Vol.2\", \"Django Unchained\", \"Inglorious Basterds\"], \n",
    "                 \"1st half\": [78, 67, 25, 4, 9, 8, 7],\n",
    "                     \"2nd half\": [102, 75, 37, 3, 10, 7, 3]\n",
    "              }\n",
    "\n",
    "adj_swears = pd.DataFrame(adjs)\n",
    "adj_swears"
   ]
  },
  {
   "cell_type": "code",
   "execution_count": 47,
   "id": "29d91aea",
   "metadata": {},
   "outputs": [],
   "source": [
    "#Plain expletives"
   ]
  },
  {
   "cell_type": "code",
   "execution_count": 48,
   "id": "080832e8",
   "metadata": {},
   "outputs": [],
   "source": [
    "#Reservoir Dogs"
   ]
  },
  {
   "cell_type": "code",
   "execution_count": 49,
   "id": "c8425f8c",
   "metadata": {},
   "outputs": [
    {
     "data": {
      "text/plain": [
       "movie_name         42\n",
       "swear_timestamp    42\n",
       "word               42\n",
       "dtype: int64"
      ]
     },
     "execution_count": 49,
     "metadata": {},
     "output_type": "execute_result"
    }
   ],
   "source": [
    "swears_df.loc[(swears_df['movie_name'].str.startswith('R')) & (swears_df['swear_timestamp'] < 44.5) & (swears_df['word'].str.endswith(\"fuck\")),['movie_name','swear_timestamp', 'word']].count()"
   ]
  },
  {
   "cell_type": "code",
   "execution_count": 50,
   "id": "78a49192",
   "metadata": {},
   "outputs": [
    {
     "data": {
      "text/plain": [
       "movie_name         26\n",
       "swear_timestamp    26\n",
       "word               26\n",
       "dtype: int64"
      ]
     },
     "execution_count": 50,
     "metadata": {},
     "output_type": "execute_result"
    }
   ],
   "source": [
    "swears_df.loc[(swears_df['movie_name'].str.startswith('R')) & (swears_df['swear_timestamp'] > 44.5) & (swears_df['word'].str.endswith(\"fuck\")),['movie_name','swear_timestamp', 'word']].count()"
   ]
  },
  {
   "cell_type": "code",
   "execution_count": 51,
   "id": "a192c761",
   "metadata": {},
   "outputs": [],
   "source": [
    "#Pulp Fiction"
   ]
  },
  {
   "cell_type": "code",
   "execution_count": 52,
   "id": "885b9a53",
   "metadata": {},
   "outputs": [
    {
     "data": {
      "text/plain": [
       "movie_name         31\n",
       "swear_timestamp    31\n",
       "word               31\n",
       "dtype: int64"
      ]
     },
     "execution_count": 52,
     "metadata": {},
     "output_type": "execute_result"
    }
   ],
   "source": [
    "swears_df.loc[(swears_df['movie_name'].str.startswith('P')) & (swears_df['swear_timestamp'] < 82.5) & (swears_df['word'].str.endswith(\"fuck\")),['movie_name','swear_timestamp', 'word']].count()"
   ]
  },
  {
   "cell_type": "code",
   "execution_count": 53,
   "id": "76b8dc30",
   "metadata": {},
   "outputs": [
    {
     "data": {
      "text/plain": [
       "movie_name         75\n",
       "swear_timestamp    75\n",
       "word               75\n",
       "dtype: int64"
      ]
     },
     "execution_count": 53,
     "metadata": {},
     "output_type": "execute_result"
    }
   ],
   "source": [
    "swears_df.loc[(swears_df['movie_name'].str.startswith('P')) & (swears_df['swear_timestamp'] > 82.5) & (swears_df['word'].str.endswith(\"ing\")),['movie_name','swear_timestamp', 'word']].count()"
   ]
  },
  {
   "cell_type": "code",
   "execution_count": 54,
   "id": "f0daf0d7",
   "metadata": {},
   "outputs": [],
   "source": [
    "#Jackie Brown"
   ]
  },
  {
   "cell_type": "code",
   "execution_count": 55,
   "id": "f9a5cb01",
   "metadata": {},
   "outputs": [
    {
     "data": {
      "text/plain": [
       "movie_name         24\n",
       "swear_timestamp    24\n",
       "word               24\n",
       "dtype: int64"
      ]
     },
     "execution_count": 55,
     "metadata": {},
     "output_type": "execute_result"
    }
   ],
   "source": [
    "swears_df.loc[(swears_df['movie_name'].str.startswith('J')) & (swears_df['swear_timestamp'] < 77) & (swears_df['word'].str.endswith(\"fuck\")),['movie_name','swear_timestamp', 'word']].count()"
   ]
  },
  {
   "cell_type": "code",
   "execution_count": 56,
   "id": "fa6d4420",
   "metadata": {},
   "outputs": [
    {
     "data": {
      "text/plain": [
       "movie_name         20\n",
       "swear_timestamp    20\n",
       "word               20\n",
       "dtype: int64"
      ]
     },
     "execution_count": 56,
     "metadata": {},
     "output_type": "execute_result"
    }
   ],
   "source": [
    "swears_df.loc[(swears_df['movie_name'].str.startswith('J')) & (swears_df['swear_timestamp'] > 77) & (swears_df['word'].str.endswith(\"fuck\")),['movie_name','swear_timestamp', 'word']].count()"
   ]
  },
  {
   "cell_type": "code",
   "execution_count": 57,
   "id": "75214fed",
   "metadata": {},
   "outputs": [],
   "source": [
    "#Kill Bill Vol. 1"
   ]
  },
  {
   "cell_type": "code",
   "execution_count": 58,
   "id": "67613bf8",
   "metadata": {},
   "outputs": [
    {
     "data": {
      "text/plain": [
       "movie_name         5\n",
       "swear_timestamp    5\n",
       "word               5\n",
       "dtype: int64"
      ]
     },
     "execution_count": 58,
     "metadata": {},
     "output_type": "execute_result"
    }
   ],
   "source": [
    "swears_df.loc[(swears_df['movie_name'].str.endswith('1')) & (swears_df['swear_timestamp'] < 55.5) & (swears_df['word'].str.endswith(\"fuck\")),['movie_name','swear_timestamp', 'word']].count()"
   ]
  },
  {
   "cell_type": "code",
   "execution_count": 59,
   "id": "61008fe1",
   "metadata": {},
   "outputs": [
    {
     "data": {
      "text/plain": [
       "movie_name         0\n",
       "swear_timestamp    0\n",
       "word               0\n",
       "dtype: int64"
      ]
     },
     "execution_count": 59,
     "metadata": {},
     "output_type": "execute_result"
    }
   ],
   "source": [
    "swears_df.loc[(swears_df['movie_name'].str.endswith('1')) & (swears_df['swear_timestamp'] > 55.5) & (swears_df['word'].str.endswith(\"fuck\")),['movie_name','swear_timestamp', 'word']].count()"
   ]
  },
  {
   "cell_type": "code",
   "execution_count": 60,
   "id": "9cf46961",
   "metadata": {},
   "outputs": [],
   "source": [
    "#Kill Bill Vol. 2"
   ]
  },
  {
   "cell_type": "code",
   "execution_count": 61,
   "id": "293ccec3",
   "metadata": {},
   "outputs": [
    {
     "data": {
      "text/plain": [
       "movie_name         0\n",
       "swear_timestamp    0\n",
       "word               0\n",
       "dtype: int64"
      ]
     },
     "execution_count": 61,
     "metadata": {},
     "output_type": "execute_result"
    }
   ],
   "source": [
    "swears_df.loc[(swears_df['movie_name'].str.endswith('2')) & (swears_df['swear_timestamp'] < 68.5) & (swears_df['word'].str.endswith(\"fuck\")),['movie_name','swear_timestamp', 'word']].count()"
   ]
  },
  {
   "cell_type": "code",
   "execution_count": 62,
   "id": "e8ba3718",
   "metadata": {},
   "outputs": [
    {
     "data": {
      "text/plain": [
       "movie_name         3\n",
       "swear_timestamp    3\n",
       "word               3\n",
       "dtype: int64"
      ]
     },
     "execution_count": 62,
     "metadata": {},
     "output_type": "execute_result"
    }
   ],
   "source": [
    "swears_df.loc[(swears_df['movie_name'].str.endswith('2')) & (swears_df['swear_timestamp'] > 68.5) & (swears_df['word'].str.endswith(\"fuck\")),['movie_name','swear_timestamp', 'word']].count()"
   ]
  },
  {
   "cell_type": "code",
   "execution_count": 66,
   "id": "69cf948b",
   "metadata": {},
   "outputs": [],
   "source": [
    "#Inglorious Basterds"
   ]
  },
  {
   "cell_type": "code",
   "execution_count": 67,
   "id": "98689ad3",
   "metadata": {},
   "outputs": [
    {
     "data": {
      "text/plain": [
       "movie_name         3\n",
       "swear_timestamp    3\n",
       "word               3\n",
       "dtype: int64"
      ]
     },
     "execution_count": 67,
     "metadata": {},
     "output_type": "execute_result"
    }
   ],
   "source": [
    "swears_df.loc[(swears_df['movie_name'].str.startswith('I')) & (swears_df['swear_timestamp'] < 82.5) & (swears_df['word'].str.endswith(\"fuck\")),['movie_name','swear_timestamp', 'word']].count()"
   ]
  },
  {
   "cell_type": "code",
   "execution_count": 68,
   "id": "7a93acba",
   "metadata": {},
   "outputs": [
    {
     "data": {
      "text/plain": [
       "movie_name         8\n",
       "swear_timestamp    8\n",
       "word               8\n",
       "dtype: int64"
      ]
     },
     "execution_count": 68,
     "metadata": {},
     "output_type": "execute_result"
    }
   ],
   "source": [
    "swears_df.loc[(swears_df['movie_name'].str.startswith('I')) & (swears_df['swear_timestamp'] > 82.5) & (swears_df['word'].str.endswith(\"fuck\")),['movie_name','swear_timestamp', 'word']].count()"
   ]
  },
  {
   "cell_type": "code",
   "execution_count": 63,
   "id": "75ca727c",
   "metadata": {},
   "outputs": [],
   "source": [
    "#Django Unchained"
   ]
  },
  {
   "cell_type": "code",
   "execution_count": 64,
   "id": "8d94a6ff",
   "metadata": {},
   "outputs": [
    {
     "data": {
      "text/plain": [
       "movie_name         2\n",
       "swear_timestamp    2\n",
       "word               2\n",
       "dtype: int64"
      ]
     },
     "execution_count": 64,
     "metadata": {},
     "output_type": "execute_result"
    }
   ],
   "source": [
    "swears_df.loc[(swears_df['movie_name'].str.startswith('D')) & (swears_df['swear_timestamp'] < 76.5) & (swears_df['word'].str.endswith(\"fuck\")),['movie_name','swear_timestamp', 'word']].count()"
   ]
  },
  {
   "cell_type": "code",
   "execution_count": 65,
   "id": "6641cb92",
   "metadata": {},
   "outputs": [
    {
     "data": {
      "text/plain": [
       "movie_name         6\n",
       "swear_timestamp    6\n",
       "word               6\n",
       "dtype: int64"
      ]
     },
     "execution_count": 65,
     "metadata": {},
     "output_type": "execute_result"
    }
   ],
   "source": [
    "swears_df.loc[(swears_df['movie_name'].str.startswith('D')) & (swears_df['swear_timestamp'] > 76.5) & (swears_df['word'].str.endswith(\"fuck\")),['movie_name','swear_timestamp', 'word']].count()"
   ]
  },
  {
   "cell_type": "code",
   "execution_count": null,
   "id": "ebc2e705",
   "metadata": {},
   "outputs": [],
   "source": [
    "#Expletive Swears (\"fuck\") in 1st and 2nd halves of Tarantino movies"
   ]
  },
  {
   "cell_type": "code",
   "execution_count": 79,
   "id": "f9975215",
   "metadata": {},
   "outputs": [
    {
     "data": {
      "text/html": [
       "<div>\n",
       "<style scoped>\n",
       "    .dataframe tbody tr th:only-of-type {\n",
       "        vertical-align: middle;\n",
       "    }\n",
       "\n",
       "    .dataframe tbody tr th {\n",
       "        vertical-align: top;\n",
       "    }\n",
       "\n",
       "    .dataframe thead th {\n",
       "        text-align: right;\n",
       "    }\n",
       "</style>\n",
       "<table border=\"1\" class=\"dataframe\">\n",
       "  <thead>\n",
       "    <tr style=\"text-align: right;\">\n",
       "      <th></th>\n",
       "      <th>movie</th>\n",
       "      <th>1st half</th>\n",
       "      <th>2nd half</th>\n",
       "    </tr>\n",
       "  </thead>\n",
       "  <tbody>\n",
       "    <tr>\n",
       "      <th>0</th>\n",
       "      <td>Reservoir Dogs</td>\n",
       "      <td>42</td>\n",
       "      <td>26</td>\n",
       "    </tr>\n",
       "    <tr>\n",
       "      <th>1</th>\n",
       "      <td>Pulp Fiction</td>\n",
       "      <td>31</td>\n",
       "      <td>75</td>\n",
       "    </tr>\n",
       "    <tr>\n",
       "      <th>2</th>\n",
       "      <td>Jackie Brown</td>\n",
       "      <td>24</td>\n",
       "      <td>20</td>\n",
       "    </tr>\n",
       "    <tr>\n",
       "      <th>3</th>\n",
       "      <td>Kill Bill Vol. 1</td>\n",
       "      <td>5</td>\n",
       "      <td>0</td>\n",
       "    </tr>\n",
       "    <tr>\n",
       "      <th>4</th>\n",
       "      <td>Kill Bill Vol.2</td>\n",
       "      <td>0</td>\n",
       "      <td>3</td>\n",
       "    </tr>\n",
       "    <tr>\n",
       "      <th>5</th>\n",
       "      <td>Django Unchained</td>\n",
       "      <td>3</td>\n",
       "      <td>8</td>\n",
       "    </tr>\n",
       "    <tr>\n",
       "      <th>6</th>\n",
       "      <td>Inglorious Basterds</td>\n",
       "      <td>2</td>\n",
       "      <td>6</td>\n",
       "    </tr>\n",
       "  </tbody>\n",
       "</table>\n",
       "</div>"
      ],
      "text/plain": [
       "                 movie  1st half  2nd half\n",
       "0       Reservoir Dogs        42        26\n",
       "1         Pulp Fiction        31        75\n",
       "2         Jackie Brown        24        20\n",
       "3     Kill Bill Vol. 1         5         0\n",
       "4      Kill Bill Vol.2         0         3\n",
       "5     Django Unchained         3         8\n",
       "6  Inglorious Basterds         2         6"
      ]
     },
     "execution_count": 79,
     "metadata": {},
     "output_type": "execute_result"
    }
   ],
   "source": [
    "expl = {\"movie\": [\"Reservoir Dogs\", \"Pulp Fiction\", \"Jackie Brown\", \"Kill Bill Vol. 1\", \"Kill Bill Vol.2\", \"Django Unchained\", \"Inglorious Basterds\"], \n",
    "                 \"1st half\": [42, 31, 24, 5, 0, 3, 2],\n",
    "                     \"2nd half\": [26,75, 20, 0, 3, 8, 6]\n",
    "              }\n",
    "\n",
    "expl_swears = pd.DataFrame(expl)\n",
    "expl_swears"
   ]
  },
  {
   "cell_type": "code",
   "execution_count": null,
   "id": "4137e5d0",
   "metadata": {},
   "outputs": [],
   "source": [
    "# Proportions of most common swears (per word) and number of occurrences"
   ]
  },
  {
   "cell_type": "code",
   "execution_count": 80,
   "id": "437c32d8",
   "metadata": {},
   "outputs": [
    {
     "data": {
      "image/png": "[encoded data removed]",
      "text/plain": [
       "<Figure size 432x288 with 1 Axes>"
      ]
     },
     "metadata": {
      "needs_background": "light"
     },
     "output_type": "display_data"
    }
   ],
   "source": [
    "swearing = swears_df[swears_df.groupby('word')['word'].transform('size') > 15]\n",
    "swearing['word'].value_counts().plot.bar(color='pink'); \n",
    "plt.title('Swearing')\n",
    "plt.xlabel('word')\n",
    "plt.ylabel('instances');"
   ]
  },
  {
   "cell_type": "code",
   "execution_count": null,
   "id": "7a03c316",
   "metadata": {},
   "outputs": [],
   "source": [
    "# Frequency of swears (blue) vs frequency of deaths (orange)"
   ]
  },
  {
   "cell_type": "code",
   "execution_count": 116,
   "id": "5094cb90",
   "metadata": {},
   "outputs": [
    {
     "data": {
      "text/plain": [
       "<AxesSubplot:xlabel='Time'>"
      ]
     },
     "execution_count": 116,
     "metadata": {},
     "output_type": "execute_result"
    },
    {
     "data": {
      "image/png": "[encoded data removed]",
      "text/plain": [
       "<Figure size 432x288 with 1 Axes>"
      ]
     },
     "metadata": {
      "needs_background": "light"
     },
     "output_type": "display_data"
    }
   ],
   "source": [
    "swear_times = [swears_df[\"swear_timestamp\"]]\n",
    "headers = [\"Time\"]\n",
    "times_df = pd.concat(swear_times, axis = 1, keys=headers)\n",
    "times_df[\"IsSwear\"] = 1\n",
    "\n",
    "death_times = [deaths_df[\"death_timestamp\"]]\n",
    "headers = [\"Time\"]\n",
    "times2_df = pd.concat(death_times, axis = 1, keys=headers)\n",
    "times2_df[\"IsSwear\"] = 0\n",
    "\n",
    "ax = times_df.plot(linestyle = 'None', marker = \"o\", label = \"swears\", x = \"Time\")\n",
    "times2_df.plot(linestyle = 'None', marker = \"D\", label = \"deaths\", x = \"Time\", ax = ax)"
   ]
  },
  {
   "cell_type": "code",
   "execution_count": 120,
   "id": "fe931d58",
   "metadata": {},
   "outputs": [
    {
     "data": {
      "text/plain": [
       "<AxesSubplot:xlabel='Time'>"
      ]
     },
     "execution_count": 120,
     "metadata": {},
     "output_type": "execute_result"
    },
    {
     "data": {
      "image/png": "[encoded data removed]",
      "text/plain": [
       "<Figure size 432x288 with 1 Axes>"
      ]
     },
     "metadata": {
      "needs_background": "light"
     },
     "output_type": "display_data"
    }
   ],
   "source": [
    "swears_one_movie = swears_df.loc[swears_df[\"movie_name\"] == \"Reservoir Dogs\"]\n",
    "swear_times = [swears_one_movie[\"swear_timestamp\"]]\n",
    "headers = [\"Time\"]\n",
    "times_df = pd.concat(swear_times, axis = 1, keys=headers)\n",
    "times_df[\"IsSwear\"] = 1\n",
    "times_df\n",
    "\n",
    "deaths_one_movie = deaths_df.loc[deaths_df[\"movie_name\"] == \"Reservoir Dogs\"]\n",
    "death_times = [deaths_one_movie[\"death_timestamp\"]]\n",
    "headers = [\"Time\"]\n",
    "times2_df = pd.concat(death_times, axis = 1, keys=headers)\n",
    "times2_df[\"IsSwear\"] = 0\n",
    "times2_df\n",
    "\n",
    "ax = times_df.plot(linestyle = 'None', marker = \"o\", label = \"swears\", x = \"Time\")\n",
    "times2_df.plot(linestyle = 'None', marker = \"D\", label = \"deaths\", x = \"Time\", ax = ax)"
   ]
  },
  {
   "cell_type": "code",
   "execution_count": 121,
   "id": "7a2f96e1",
   "metadata": {},
   "outputs": [
    {
     "data": {
      "text/plain": [
       "<AxesSubplot:xlabel='Time'>"
      ]
     },
     "execution_count": 121,
     "metadata": {},
     "output_type": "execute_result"
    },
    {
     "data": {
      "image/png": "[encoded data removed]",
      "text/plain": [
       "<Figure size 432x288 with 1 Axes>"
      ]
     },
     "metadata": {
      "needs_background": "light"
     },
     "output_type": "display_data"
    }
   ],
   "source": [
    "swears_one_movie = swears_df.loc[swears_df[\"movie_name\"] == \"Pulp Fiction\"]\n",
    "swear_times = [swears_one_movie[\"swear_timestamp\"]]\n",
    "headers = [\"Time\"]\n",
    "times_df = pd.concat(swear_times, axis = 1, keys=headers)\n",
    "times_df[\"IsSwear\"] = 1\n",
    "times_df\n",
    "\n",
    "deaths_one_movie = deaths_df.loc[deaths_df[\"movie_name\"] == \"Pulp Fiction\"]\n",
    "death_times = [deaths_one_movie[\"death_timestamp\"]]\n",
    "headers = [\"Time\"]\n",
    "times2_df = pd.concat(death_times, axis = 1, keys=headers)\n",
    "times2_df[\"IsSwear\"] = 0\n",
    "times2_df\n",
    "\n",
    "ax = times_df.plot(linestyle = 'None', marker = \"o\", label = \"swears\", x = \"Time\")\n",
    "times2_df.plot(linestyle = 'None', marker = \"D\", label = \"deaths\", x = \"Time\", ax = ax)"
   ]
  },
  {
   "cell_type": "code",
   "execution_count": 122,
   "id": "2744d248",
   "metadata": {},
   "outputs": [
    {
     "data": {
      "text/plain": [
       "<AxesSubplot:xlabel='Time'>"
      ]
     },
     "execution_count": 122,
     "metadata": {},
     "output_type": "execute_result"
    },
    {
     "data": {
      "image/png": "[encoded data removed]",
      "text/plain": [
       "<Figure size 432x288 with 1 Axes>"
      ]
     },
     "metadata": {
      "needs_background": "light"
     },
     "output_type": "display_data"
    }
   ],
   "source": [
    "swears_one_movie = swears_df.loc[swears_df[\"movie_name\"] == \"Jackie Brown\"]\n",
    "swear_times = [swears_one_movie[\"swear_timestamp\"]]\n",
    "headers = [\"Time\"]\n",
    "times_df = pd.concat(swear_times, axis = 1, keys=headers)\n",
    "times_df[\"IsSwear\"] = 1\n",
    "times_df\n",
    "\n",
    "deaths_one_movie = deaths_df.loc[deaths_df[\"movie_name\"] == \"Jackie Brown\"]\n",
    "death_times = [deaths_one_movie[\"death_timestamp\"]]\n",
    "headers = [\"Time\"]\n",
    "times2_df = pd.concat(death_times, axis = 1, keys=headers)\n",
    "times2_df[\"IsSwear\"] = 0\n",
    "times2_df\n",
    "\n",
    "ax = times_df.plot(linestyle = 'None', marker = \"o\", label = \"swears\", x = \"Time\")\n",
    "times2_df.plot(linestyle = 'None', marker = \"D\", label = \"deaths\", x = \"Time\", ax = ax)"
   ]
  },
  {
   "cell_type": "code",
   "execution_count": null,
   "id": "57ec0f81",
   "metadata": {},
   "outputs": [],
   "source": [
    "# Ratios of swears per movie (the number of swears decreases as the movies/years go up)"
   ]
  },
  {
   "cell_type": "code",
   "execution_count": 114,
   "id": "b4a424dd",
   "metadata": {},
   "outputs": [
    {
     "data": {
      "text/plain": [
       "<AxesSubplot:>"
      ]
     },
     "execution_count": 114,
     "metadata": {},
     "output_type": "execute_result"
    },
    {
     "data": {
      "image/png": "[encoded data removed]",
      "text/plain": [
       "<Figure size 432x288 with 1 Axes>"
      ]
     },
     "metadata": {
      "needs_background": "light"
     },
     "output_type": "display_data"
    }
   ],
   "source": [
    "ax = adj_swears.plot()\n",
    "expl_swears.plot(ax=ax)"
   ]
  },
  {
   "cell_type": "code",
   "execution_count": null,
   "id": "b752ffc6",
   "metadata": {},
   "outputs": [],
   "source": [
    "# In terms of visualization, I did struggle with this portion of the assignment, as a lot of\n",
    "# my variables are text variables (movie_name for example), and so finding the right parameters for representing\n",
    "# my data was rather difficult. Ultimately, I would have like to have combined my data frames in order to better \n",
    "# represent them, both statistically and visually. I think this could be a fun project to continue on\n",
    "# in the future, and might actually try to continue with this data set as a part of my final project.\n",
    "# I'd like to look more into how these variables change throughout the length of films, and their genres as well.\n",
    "# Tarantino is an infamous name, and his works are so well known, that I thought this dataset would be the most \n",
    "# enjoyable approach to understanding databases better. However it was a lot more difficult than I thought!"
   ]
  }
 ],
 "metadata": {
  "kernelspec": {
   "display_name": "Python 3 (ipykernel)",
   "language": "python",
   "name": "python3"
  },
  "language_info": {
   "codemirror_mode": {
    "name": "ipython",
    "version": 3
   },
   "file_extension": ".py",
   "mimetype": "text/x-python",
   "name": "python",
   "nbconvert_exporter": "python",
   "pygments_lexer": "ipython3",
   "version": "3.9.7"
  }
 },
 "nbformat": 4,
 "nbformat_minor": 5
}
